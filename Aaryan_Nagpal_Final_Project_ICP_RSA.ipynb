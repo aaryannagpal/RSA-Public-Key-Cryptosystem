{
 "cells": [
  {
   "cell_type": "markdown",
   "id": "d5ab307c",
   "metadata": {},
   "source": [
    "# Rivest–Shamir–Adleman Cryptosystem"
   ]
  },
  {
   "cell_type": "markdown",
   "id": "f5ebf4de",
   "metadata": {},
   "source": [
    "## Creating some RSA key"
   ]
  },
  {
   "cell_type": "markdown",
   "id": "17ea4a43",
   "metadata": {},
   "source": [
    "### Importing the necessary modules"
   ]
  },
  {
   "cell_type": "code",
   "execution_count": 1,
   "id": "9774b42b",
   "metadata": {},
   "outputs": [],
   "source": [
    "import BigNumber\n",
    "import random\n",
    "import numpy as np\n",
    "import math\n",
    "from math import ceil, floor\n",
    "import sys"
   ]
  },
  {
   "cell_type": "markdown",
   "id": "54eefd1a",
   "metadata": {},
   "source": [
    "### Ferman Test to check primality"
   ]
  },
  {
   "cell_type": "code",
   "execution_count": 2,
   "id": "26f27977",
   "metadata": {},
   "outputs": [],
   "source": [
    "def checkPrime(a):\n",
    "    if a==2:\n",
    "        return True\n",
    "    i=0\n",
    "    while i<5:\n",
    "        p=np.random.randint(2,20)\n",
    "        if pow(p,a-1,a)!=1:\n",
    "            return False\n",
    "        else:\n",
    "            return True\n",
    "        i+=1"
   ]
  },
  {
   "cell_type": "markdown",
   "id": "bd6f9127",
   "metadata": {},
   "source": [
    "### Generating a large Prime Number"
   ]
  },
  {
   "cell_type": "code",
   "execution_count": 3,
   "id": "256145fd",
   "metadata": {},
   "outputs": [],
   "source": [
    "def LargePrime(k):  \n",
    "    \n",
    "    b=100*(math.log(k,2)+1) #number of attempts max\n",
    "    while b>0:\n",
    "        \n",
    "        n = random.randrange(2**(k-1),2**(k))\n",
    "        b-=1\n",
    "        if checkPrime(n) == True:\n",
    "            \n",
    "            \n",
    "            return n\n",
    "    return \"Failure in computing\""
   ]
  },
  {
   "cell_type": "markdown",
   "id": "19a2d5cc",
   "metadata": {},
   "source": [
    "### Creating our prime numbers: $p$ and $q$"
   ]
  },
  {
   "cell_type": "code",
   "execution_count": 4,
   "id": "ba7856c3",
   "metadata": {},
   "outputs": [
    {
     "data": {
      "text/plain": [
       "8302514729645581262000812250336343733031353576381439530303407331351114930152753715203547286238268094650978513911848227682617191802833333075082670714305358239939008111888674649155636381380969703826711484732919766201922397176199872857737432896808214158490059088556161437590691593196259085517586918368021"
      ]
     },
     "execution_count": 4,
     "metadata": {},
     "output_type": "execute_result"
    }
   ],
   "source": [
    "p=LargePrime(1000)\n",
    "p"
   ]
  },
  {
   "cell_type": "code",
   "execution_count": 5,
   "id": "07ef8e75",
   "metadata": {},
   "outputs": [
    {
     "data": {
      "text/plain": [
       "'Failure in computing'"
      ]
     },
     "execution_count": 5,
     "metadata": {},
     "output_type": "execute_result"
    }
   ],
   "source": [
    "q=LargePrime(1000)\n",
    "q"
   ]
  },
  {
   "cell_type": "markdown",
   "id": "cc22e797",
   "metadata": {},
   "source": [
    "### Generating $n$ and $m$"
   ]
  },
  {
   "cell_type": "code",
   "execution_count": 6,
   "id": "e538154b",
   "metadata": {},
   "outputs": [
    {
     "ename": "OverflowError",
     "evalue": "cannot fit 'int' into an index-sized integer",
     "output_type": "error",
     "traceback": [
      "\u001b[1;31m---------------------------------------------------------------------------\u001b[0m",
      "\u001b[1;31mOverflowError\u001b[0m                             Traceback (most recent call last)",
      "\u001b[1;32mC:\\Users\\AARYAN~1\\AppData\\Local\\Temp/ipykernel_34624/3732153148.py\u001b[0m in \u001b[0;36m<module>\u001b[1;34m\u001b[0m\n\u001b[1;32m----> 1\u001b[1;33m \u001b[0mn\u001b[0m \u001b[1;33m=\u001b[0m \u001b[0mp\u001b[0m\u001b[1;33m*\u001b[0m\u001b[0mq\u001b[0m\u001b[1;33m\u001b[0m\u001b[1;33m\u001b[0m\u001b[0m\n\u001b[0m\u001b[0;32m      2\u001b[0m \u001b[0mprint\u001b[0m\u001b[1;33m(\u001b[0m\u001b[0mn\u001b[0m\u001b[1;33m)\u001b[0m\u001b[1;33m\u001b[0m\u001b[1;33m\u001b[0m\u001b[0m\n",
      "\u001b[1;31mOverflowError\u001b[0m: cannot fit 'int' into an index-sized integer"
     ]
    }
   ],
   "source": [
    "n = p*q\n",
    "print(n)"
   ]
  },
  {
   "cell_type": "code",
   "execution_count": null,
   "id": "eb6c17d7",
   "metadata": {},
   "outputs": [],
   "source": [
    "m = (p-1)*(q-1)\n",
    "print(m)"
   ]
  },
  {
   "cell_type": "markdown",
   "id": "c5a7ee15",
   "metadata": {},
   "source": [
    "### Calculating $e$ and $d$"
   ]
  },
  {
   "cell_type": "markdown",
   "id": "0cc1587b",
   "metadata": {},
   "source": [
    "#### For Euclidean GCD"
   ]
  },
  {
   "cell_type": "code",
   "execution_count": null,
   "id": "6cbc4c9e",
   "metadata": {},
   "outputs": [],
   "source": [
    "def euc_gcd(e, m):\n",
    "    while m != 0:\n",
    "        e, m = m, e % m\n",
    "    return e"
   ]
  },
  {
   "cell_type": "markdown",
   "id": "87c4db38",
   "metadata": {},
   "source": [
    "##### We can pick $e$ randomly in the range $0 < e < m$, then calculate the gcd of e and m using Euclid’s algorithm. \n",
    "##### If the gcd is not 1, we pick again."
   ]
  },
  {
   "cell_type": "code",
   "execution_count": null,
   "id": "f4f0d8d6",
   "metadata": {},
   "outputs": [],
   "source": [
    "e = random.randrange(1, 1024,2)\n",
    "gcd = euc_gcd(e, m)\n",
    "while gcd != 1:\n",
    "    e = random.randrange(1, 1024,2)\n",
    "    gcd = euc_gcd(e, m)"
   ]
  },
  {
   "cell_type": "markdown",
   "id": "0d75d351",
   "metadata": {},
   "source": [
    "##### We know if gcd(e, m) = 1, then $ed ≡ 1$ mod  $m$ has a unique solution:\n",
    "$$gcd(e,m) = ex+my = 1$$\n",
    "##### From this we can calculate $d$\n",
    "##### To calculate $x$ and $y$, we extend the algorithm\n",
    "##### Let $e = qm + r$ such that $0 <= r < m$. Then\n",
    "$$g = um + vr$$\n",
    "$$= um + v(e − qm)$$\n",
    "$$= ve + (u − qv)m$$\n",
    "##### Thus we can take $x = v$ and $y = u − qv$"
   ]
  },
  {
   "cell_type": "code",
   "execution_count": null,
   "id": "6ce1566e",
   "metadata": {},
   "outputs": [],
   "source": [
    "def extended_euclid(m,n):\n",
    "    if n == 0:\n",
    "        return (m,1,0)\n",
    "    else:\n",
    "        q = m // n\n",
    "        r = m % n\n",
    "        (g,u,v) = extended_euclid(n,r)\n",
    "    return (g,v,u-q*v)"
   ]
  },
  {
   "cell_type": "code",
   "execution_count": null,
   "id": "9dd1e655",
   "metadata": {},
   "outputs": [],
   "source": [
    "def inv(e,m):\n",
    "    (g,x,y) = extended_euclid(e,m)\n",
    "    if (g != 1):\n",
    "        return (0) \n",
    "    else:\n",
    "        return(x % m)"
   ]
  },
  {
   "cell_type": "code",
   "execution_count": null,
   "id": "9127d419",
   "metadata": {},
   "outputs": [],
   "source": [
    "g,u,v = extended_euclid(m,n)\n",
    "d = inv(e,m)\n",
    "(e*d)%m       #verification"
   ]
  },
  {
   "cell_type": "markdown",
   "id": "dc9c8b61",
   "metadata": {},
   "source": [
    "## Declaring our Private and Public Keys"
   ]
  },
  {
   "cell_type": "code",
   "execution_count": null,
   "id": "7f536472",
   "metadata": {},
   "outputs": [],
   "source": [
    "public_key = (e,n)\n",
    "private_key = (d,n)"
   ]
  },
  {
   "cell_type": "markdown",
   "id": "4fdaa1a4",
   "metadata": {},
   "source": [
    "## Implementing our RSA key"
   ]
  },
  {
   "cell_type": "markdown",
   "id": "275b90d9",
   "metadata": {},
   "source": [
    "### Defining our encrypting function (Plaintext to Ciper Text)\n",
    "$P(M) = M^e$ mod $n$"
   ]
  },
  {
   "cell_type": "code",
   "execution_count": null,
   "id": "78a571d6",
   "metadata": {},
   "outputs": [],
   "source": [
    "def encrypt(plain):\n",
    "    e,n=public_key\n",
    "    x=[]\n",
    "    M=0\n",
    "    for i in plain:\n",
    "        M = ord(i)\n",
    "        c=pow(M,e,n)\n",
    "        x.append(c)\n",
    "    return x"
   ]
  },
  {
   "cell_type": "markdown",
   "id": "72dbb254",
   "metadata": {},
   "source": [
    "### Defining our decrypting function (Ciper Text to Plaintext)\n",
    "$S(C) = C^d$ mod $n$"
   ]
  },
  {
   "cell_type": "code",
   "execution_count": null,
   "id": "613c3357",
   "metadata": {},
   "outputs": [],
   "source": [
    "def decrypt(cipher):\n",
    "    d,n=private_key\n",
    "    x=''\n",
    "    M=0\n",
    "    for i in cipher:\n",
    "        m=pow(i,d,n)\n",
    "        c=chr(m)\n",
    "        x+=c\n",
    "    return x  "
   ]
  },
  {
   "cell_type": "code",
   "execution_count": null,
   "id": "391744e8",
   "metadata": {},
   "outputs": [],
   "source": [
    "plaintext = 'Aaryan Nagpal did his best, still he will not get A in this course'\n",
    "cipher = encrypt(plaintext)\n",
    "print('The encrypted message is: \\n', cipher)"
   ]
  },
  {
   "cell_type": "code",
   "execution_count": null,
   "id": "c2d0d39c",
   "metadata": {
    "scrolled": true
   },
   "outputs": [],
   "source": [
    "x = decrypt(cipher)\n",
    "print('The decrypted message is: \\n\\n', x)"
   ]
  }
 ],
 "metadata": {
  "kernelspec": {
   "display_name": "Python 3 (ipykernel)",
   "language": "python",
   "name": "python3"
  },
  "language_info": {
   "codemirror_mode": {
    "name": "ipython",
    "version": 3
   },
   "file_extension": ".py",
   "mimetype": "text/x-python",
   "name": "python",
   "nbconvert_exporter": "python",
   "pygments_lexer": "ipython3",
   "version": "3.9.7"
  }
 },
 "nbformat": 4,
 "nbformat_minor": 5
}
